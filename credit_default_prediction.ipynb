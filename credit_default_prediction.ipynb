{
  "nbformat": 4,
  "nbformat_minor": 0,
  "metadata": {
    "colab": {
      "provenance": []
    },
    "kernelspec": {
      "name": "python3",
      "display_name": "Python 3"
    },
    "language_info": {
      "name": "python"
    }
  },
  "cells": [
    {
      "cell_type": "markdown",
      "source": [
        "# Credit Default Prediction (UCI Dataset)\n",
        "Machine learning classification of credit card defaulters using Logistic Regression and Random Forest."
      ],
      "metadata": {
        "id": "gUmPZyok5Miw"
      }
    },
    {
      "cell_type": "markdown",
      "source": [
        "## Dataset\n",
        "- Source: UCI Credit Card Dataset\n",
        "- 30,000 credit card clients\n",
        "- Target: `default.payment.next.month` (0 = paid, 1 = default)"
      ],
      "metadata": {
        "id": "Awpu2qWg5hw6"
      }
    },
    {
      "cell_type": "code",
      "execution_count": 13,
      "metadata": {
        "id": "_xKsv0zm5Jp2"
      },
      "outputs": [],
      "source": [
        "import pandas as pd\n",
        "import numpy as np\n",
        "import matplotlib.pyplot as plt\n",
        "import seaborn as sns\n",
        "\n",
        "from sklearn.model_selection import train_test_split\n",
        "from sklearn.linear_model import LogisticRegression\n",
        "from sklearn.ensemble import RandomForestClassifier\n",
        "from sklearn.preprocessing import StandardScaler\n",
        "from sklearn.metrics import accuracy_score, confusion_matrix, classification_report"
      ]
    },
    {
      "cell_type": "code",
      "source": [
        "from google.colab import drive\n",
        "drive.mount('/content/drive')"
      ],
      "metadata": {
        "colab": {
          "base_uri": "https://localhost:8080/"
        },
        "id": "SAxFQJpr5Nkn",
        "outputId": "842a1620-4300-418b-a45a-e8e83927568d"
      },
      "execution_count": 14,
      "outputs": [
        {
          "output_type": "stream",
          "name": "stdout",
          "text": [
            "Drive already mounted at /content/drive; to attempt to forcibly remount, call drive.mount(\"/content/drive\", force_remount=True).\n"
          ]
        }
      ]
    },
    {
      "cell_type": "code",
      "source": [
        "df = pd.read_csv('/content/drive/MyDrive/Colab Notebooks/data/UCI_Credit_Card.csv')"
      ],
      "metadata": {
        "id": "XFKdCwMS5sTm"
      },
      "execution_count": 15,
      "outputs": []
    },
    {
      "cell_type": "code",
      "source": [
        "# df.drop(columns=['ID'], inplace=True)  ← закомментировано, чтобы не вызывало ошибку\n",
        "df.dropna(subset=['MARRIAGE'], inplace=True)\n",
        "\n",
        "df['EDUCATION'] = df['EDUCATION'].replace({0: 'Other', 5: 'Other', 6: 'Other'})"
      ],
      "metadata": {
        "id": "-DCW8EOK7bc-"
      },
      "execution_count": 22,
      "outputs": []
    },
    {
      "cell_type": "markdown",
      "source": [
        "## Label encoding and one-hot transformation"
      ],
      "metadata": {
        "id": "79b6kSjb6HQC"
      }
    },
    {
      "cell_type": "code",
      "source": [
        "df['SEX'] = df['SEX'].map({1: 'Male', 2: 'Female'})\n",
        "df['MARRIAGE'] = df['MARRIAGE'].map({1: 'Married', 2: 'Single', 3: 'Other'})\n",
        "df['EDUCATION'] = df['EDUCATION'].replace({0: 'Other', 5: 'Other', 6: 'Other'})\n",
        "\n",
        "df = pd.get_dummies(df, columns=['SEX', 'EDUCATION', 'MARRIAGE'], drop_first=True)"
      ],
      "metadata": {
        "id": "HdlvgtDX6CTy"
      },
      "execution_count": 23,
      "outputs": []
    },
    {
      "cell_type": "code",
      "source": [
        "X = df.drop('default.payment.next.month', axis=1)\n",
        "y = df['default.payment.next.month']"
      ],
      "metadata": {
        "id": "5DKbeeZ16JWz"
      },
      "execution_count": 24,
      "outputs": []
    },
    {
      "cell_type": "code",
      "source": [
        "scaler = StandardScaler()\n",
        "X_scaled = scaler.fit_transform(X)\n",
        "\n",
        "X_train, X_test, y_train, y_test = train_test_split(\n",
        "    X_scaled, y, test_size=0.2, random_state=42, stratify=y)"
      ],
      "metadata": {
        "id": "Q7yPqjll6Kn4"
      },
      "execution_count": 25,
      "outputs": []
    },
    {
      "cell_type": "markdown",
      "source": [
        "## Logistic Regression model and evaluation"
      ],
      "metadata": {
        "id": "iWcwcrGI6M2q"
      }
    },
    {
      "cell_type": "code",
      "source": [
        "log_model = LogisticRegression(max_iter=1000)\n",
        "log_model.fit(X_train, y_train)\n",
        "y_pred_log = log_model.predict(X_test)\n",
        "\n",
        "print(\"Accuracy:\", accuracy_score(y_test, y_pred_log))\n",
        "print(confusion_matrix(y_test, y_pred_log))\n",
        "print(classification_report(y_test, y_pred_log))"
      ],
      "metadata": {
        "colab": {
          "base_uri": "https://localhost:8080/"
        },
        "id": "8dauNsR66Lt8",
        "outputId": "393ea977-d5a1-46cf-aa1c-01ffe4cff773"
      },
      "execution_count": 26,
      "outputs": [
        {
          "output_type": "stream",
          "name": "stdout",
          "text": [
            "Accuracy: 0.8091666666666667\n",
            "[[4531  142]\n",
            " [1003  324]]\n",
            "              precision    recall  f1-score   support\n",
            "\n",
            "           0       0.82      0.97      0.89      4673\n",
            "           1       0.70      0.24      0.36      1327\n",
            "\n",
            "    accuracy                           0.81      6000\n",
            "   macro avg       0.76      0.61      0.62      6000\n",
            "weighted avg       0.79      0.81      0.77      6000\n",
            "\n"
          ]
        }
      ]
    },
    {
      "cell_type": "markdown",
      "source": [
        "## Random Forest model and evaluation"
      ],
      "metadata": {
        "id": "SUEBLK_V6Pzy"
      }
    },
    {
      "cell_type": "code",
      "source": [
        "rf_model = RandomForestClassifier(n_estimators=100, random_state=42)\n",
        "rf_model.fit(X_train, y_train)\n",
        "y_pred_rf = rf_model.predict(X_test)\n",
        "\n",
        "print(\"Accuracy:\", accuracy_score(y_test, y_pred_rf))\n",
        "print(confusion_matrix(y_test, y_pred_rf))\n",
        "print(classification_report(y_test, y_pred_rf))"
      ],
      "metadata": {
        "colab": {
          "base_uri": "https://localhost:8080/"
        },
        "id": "Jc-dT1uh6OdD",
        "outputId": "1a8f6c43-c55f-410f-9af2-677a352fbe37"
      },
      "execution_count": 27,
      "outputs": [
        {
          "output_type": "stream",
          "name": "stdout",
          "text": [
            "Accuracy: 0.8133333333333334\n",
            "[[4402  271]\n",
            " [ 849  478]]\n",
            "              precision    recall  f1-score   support\n",
            "\n",
            "           0       0.84      0.94      0.89      4673\n",
            "           1       0.64      0.36      0.46      1327\n",
            "\n",
            "    accuracy                           0.81      6000\n",
            "   macro avg       0.74      0.65      0.67      6000\n",
            "weighted avg       0.79      0.81      0.79      6000\n",
            "\n"
          ]
        }
      ]
    },
    {
      "cell_type": "code",
      "source": [
        "importances = pd.Series(rf_model.feature_importances_, index=X.columns)\n",
        "importances.sort_values(ascending=False).head(15).plot(kind='barh', figsize=(10,6))\n",
        "plt.gca().invert_yaxis()\n",
        "plt.xlabel(\"Importance\")\n",
        "plt.title(\"Top Features\")\n",
        "plt.tight_layout()\n",
        "plt.show()"
      ],
      "metadata": {
        "colab": {
          "base_uri": "https://localhost:8080/",
          "height": 607
        },
        "id": "5lEjK7hf6RNS",
        "outputId": "18dcfc3e-be22-4f3a-cd06-b575d7ffd496"
      },
      "execution_count": 28,
      "outputs": [
        {
          "output_type": "display_data",
          "data": {
            "text/plain": [
              "<Figure size 1000x600 with 1 Axes>"
            ],
            "image/png": "[encoded data removed]"
          },
          "metadata": {}
        }
      ]
    },
    {
      "cell_type": "code",
      "source": [
        "with open('requirements.txt', 'w') as f:\n",
        "    f.write(\"\"\"\\\n",
        "# Basic requirements file for credit default project\n",
        "# These are the main libraries I used in the notebook\n",
        "\n",
        "pandas\n",
        "numpy\n",
        "matplotlib\n",
        "seaborn\n",
        "scikit-learn\n",
        "\"\"\")"
      ],
      "metadata": {
        "id": "Chgv6ufA6Vu4"
      },
      "execution_count": 1,
      "outputs": []
    },
    {
      "cell_type": "code",
      "source": [],
      "metadata": {
        "id": "qUbzEkXGV7hn"
      },
      "execution_count": null,
      "outputs": []
    }
  ]
}